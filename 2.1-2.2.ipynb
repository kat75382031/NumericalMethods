{
 "cells": [
  {
   "cell_type": "code",
   "execution_count": 26,
   "metadata": {},
   "outputs": [],
   "source": [
    "A=[[20.,4.,-8.],\n",
    "  [-3.,15.,5.],\n",
    "  [6.,3.,-18.]]\n",
    "b=[1.,-2.,3.]\n",
    "x=[0.,0.,0.]"
   ]
  },
  {
   "cell_type": "code",
   "execution_count": 27,
   "metadata": {},
   "outputs": [],
   "source": [
    "def Bbeta(A,b):\n",
    "    for i in range(0,3):\n",
    "        sum = 0\n",
    "        for j in range (0,2):\n",
    "            if j!=i: \n",
    "                sum+=A[i][j]\n",
    "        if (A[i][i]>0 and A[i][i]>sum) or (A[i][i]<0 and A[i][i]<sum):\n",
    "            b[i]/=A[i][i]\n",
    "            for k in reversed(range(3)):\n",
    "                if k!=i:\n",
    "                    A[i][k]/=-A[i][i]\n",
    "            A[i][i]=0"
   ]
  },
  {
   "cell_type": "code",
   "execution_count": 28,
   "metadata": {},
   "outputs": [],
   "source": [
    "def Bbeta(A,b):\n",
    "    for i in range(0,3):\n",
    "        sum = 0\n",
    "        for j in range (0,2):\n",
    "            if j!=i: \n",
    "                sum+=A[i][j]\n",
    "        if (A[i][i]>0 and A[i][i]>sum) or (A[i][i]<0 and A[i][i]<sum):\n",
    "            b[i]/=A[i][i]\n",
    "            for k in reversed(range(3)):\n",
    "                if k!=i:\n",
    "                    A[i][k]/=-A[i][i]\n",
    "            A[i][i]=0"
   ]
  },
  {
   "cell_type": "code",
   "execution_count": 29,
   "metadata": {},
   "outputs": [],
   "source": [
    "def normA1(A):\n",
    "    max=0\n",
    "    for i in range(0,3):\n",
    "        sum=0\n",
    "        for j in range(0,3):\n",
    "            sum+=abs(A[i][j])\n",
    "        if sum>max:\n",
    "            max=sum\n",
    "    return max\n",
    "def normA2(A):\n",
    "    max=0\n",
    "    for i in range(0,3):\n",
    "        sum=0\n",
    "        for j in range(0,3):\n",
    "            sum+=abs(A[j][i])\n",
    "        if sum>max:\n",
    "            max=sum\n",
    "    return max"
   ]
  },
  {
   "cell_type": "code",
   "execution_count": 30,
   "metadata": {},
   "outputs": [],
   "source": [
    "def normb1(b):\n",
    "    max=0\n",
    "    for i in range(0,3):\n",
    "        if abs(b[i])>max:\n",
    "            max=abs(b[i])\n",
    "    return max\n",
    "def normb2(b):\n",
    "    return b"
   ]
  },
  {
   "cell_type": "code",
   "execution_count": 31,
   "metadata": {},
   "outputs": [
    {
     "name": "stdout",
     "output_type": "stream",
     "text": [
      "Итерационный процесс сходится, т.к. норма матрицы В<1\n",
      "[0.01, -0.06777778, -0.17222222] 0.25 0.06555555\n",
      "[-0.00533333, -0.07699259, -0.18127654] 0.15 0.0\n",
      "[-0.0071121, -0.07433024, -0.18142574] 0.09 0.0\n",
      "[-0.00770425, -0.07439894, -0.18163457] 0.054 0.0\n",
      "[-0.00777404, -0.07434328, -0.18164856] 0.0324 0.0\n",
      "[-0.00779077, -0.07434197, -0.18165392] 0.01944 0.0\n",
      "[-0.00779317, -0.07434066, -0.1816545] 0.011664 0.0\n"
     ]
    }
   ],
   "source": [
    "def accuracy1(i,l,N,n):\n",
    "    eps=1\n",
    "    for i in range(0,i):\n",
    "        eps*=N\n",
    "    eps*=n\n",
    "    eps/=1-N\n",
    "    return round(eps,8)\n",
    "def accuracy2(x_1,x_0):\n",
    "    d=[0.,0.,0.]\n",
    "    x1=[0.,0.,0.]\n",
    "    x2=[0.,0.,0.]\n",
    "    for i in range(0,3):\n",
    "        x1[i]=x_0[i]\n",
    "        x2[i]=x_1[i]\n",
    "    for j in range(0,3):\n",
    "        d[j]=x1[j]-x2[j]\n",
    "    if l==1:\n",
    "        delta=normb1(d)\n",
    "    else:\n",
    "        delta=normb2(d)\n",
    "    return round(delta,8)\n",
    "\n",
    "Bbeta(A,b)\n",
    "if normA1(A)<normA2(A):\n",
    "    N=normA1(A)\n",
    "    n=normb1(b)\n",
    "    l=1\n",
    "    if normA1(A)<1:\n",
    "        print('Итерационный процесс сходится, т.к. норма матрицы В<1')\n",
    "if normA2(A)<normA1(A):\n",
    "    N=normA2(A)\n",
    "    n=normb2(b)\n",
    "    l=2\n",
    "    if normA2(A)<1:\n",
    "        print('Итерационный процесс сходится,т.к. норма матрицы В<1')   \n",
    "x0=b\n",
    "#print x0\n",
    "#print(\" \")\n",
    "for i in range(1,8):\n",
    "    for j in range(0,3):\n",
    "        x[j]=b[j]\n",
    "        for k in range(0,3):\n",
    "            x[j]+=A[j][k]*x0[k]\n",
    "    x_0=x0\n",
    "    x_1=x\n",
    "    x0=x\n",
    "    for m in range(0,3):\n",
    "        x[m]=round(x[m],8)\n",
    "    print  x, accuracy1(i,l,N,n),accuracy2(x_1,x_0)\n",
    "    \n",
    "    #print(\" \")"
   ]
  },
  {
   "cell_type": "code",
   "execution_count": 36,
   "metadata": {},
   "outputs": [
    {
     "name": "stdout",
     "output_type": "stream",
     "text": [
      "[0.05, -0.13333333333333333, -0.16666666666666666]\n",
      "[0.010000000000000009, -0.07577777777777778, -0.17596296296296296]\n",
      "[-0.04522962962962963, -0.02616938271604939, -0.19540106995884773]\n",
      "[-0.11815618106995884, 0.015333071056241418, -0.23223095180612713]\n",
      "[-0.21411517600365798, 0.04992035312421885, -0.2952826182866433]\n"
     ]
    }
   ],
   "source": [
    "B=[[20.,4.,-8.],\n",
    "   [-3.,15.,5.],\n",
    "   [6.,3.,-18.]] \n",
    "c=[1.,-2.,3.]\n",
    "xz=[0.]*3\n",
    "xz0=[0.]*3\n",
    "Bbeta(B,c)\n",
    "xz0=c\n",
    "for i in range(1,6):\n",
    "    xz=c\n",
    "    print xz0\n",
    "    for j in range(0,3):\n",
    "        xz[0]+=B[0][j]*xz0[j]\n",
    "    xz[1]+=B[1][0]*xz[0]+B[1][1]*xz0[1]+B[1][2]*xz0[2]\n",
    "    xz[2]+=B[2][0]*xz[0]+B[2][1]*xz[1]+B[2][2]*xz0[2]\n",
    "    #print xz,accuracy1(i,l,N,n)\n",
    "    xz0=xz"
   ]
  },
  {
   "cell_type": "code",
   "execution_count": null,
   "metadata": {},
   "outputs": [],
   "source": []
  },
  {
   "cell_type": "code",
   "execution_count": null,
   "metadata": {},
   "outputs": [],
   "source": []
  }
 ],
 "metadata": {
  "kernelspec": {
   "display_name": "Python 2",
   "language": "python",
   "name": "python2"
  },
  "language_info": {
   "codemirror_mode": {
    "name": "ipython",
    "version": 2
   },
   "file_extension": ".py",
   "mimetype": "text/x-python",
   "name": "python",
   "nbconvert_exporter": "python",
   "pygments_lexer": "ipython2",
   "version": "2.7.15+"
  }
 },
 "nbformat": 4,
 "nbformat_minor": 2
}
