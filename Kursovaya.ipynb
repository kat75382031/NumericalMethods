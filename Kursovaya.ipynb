{
 "cells": [
  {
   "cell_type": "code",
   "execution_count": 45,
   "metadata": {},
   "outputs": [
    {
     "name": "stdout",
     "output_type": "stream",
     "text": [
      "-0.01953125\n",
      "-1.0015625\n",
      "0.05859375\n",
      "-0.01953125\n",
      "-1.0015625\n",
      "0.05859375\n",
      "-0.01953125\n",
      "-1.0015625\n",
      "0.05859375\n",
      "-0.01953125\n",
      "-1.0015625\n",
      "0.05859375\n",
      "-0.01953125\n",
      "-1.0015625\n",
      "0.05859375\n",
      "-0.01953125\n",
      "-1.0015625\n",
      "0.05859375\n",
      "-0.01953125\n",
      "-1.0015625\n",
      "0.05859375\n",
      "-0.01953125\n",
      "-1.0015625\n",
      "0.05859375\n",
      "-0.01953125\n",
      "-1.0015625\n",
      "0.05859375\n",
      "-0.01953125\n",
      "-1.0015625\n",
      "0.05859375\n",
      "-0.01953125\n",
      "-1.0015625\n",
      "0.05859375\n",
      "-0.01953125\n",
      "-1.0015625\n",
      "0.05859375\n",
      "-0.01953125\n",
      "-1.0015625\n",
      "0.05859375\n",
      "-0.01953125\n",
      "-1.0015625\n",
      "0.05859375\n",
      "-0.01953125\n",
      "-1.0015625\n",
      "0.05859375\n"
     ]
    }
   ],
   "source": [
    "import numpy as np\n",
    "import matplotlib.pyplot as plt\n",
    "# t :[0;2], x:[0,pi]\n",
    "n=6\n",
    "m=6\n",
    "h=0.8\n",
    "tau=0.025\n",
    "a=1.\n",
    "b=5.\n",
    "alpha3=3.\n",
    "y=[0]*n\n",
    "y0=[0]*n\n",
    "tetta=1./2.\n",
    "\n",
    "a1=[0.]*(n-3)\n",
    "b1=[0.]*(n-2)\n",
    "c1=[0.]*(n-3)\n",
    "d=[0.]*(n-2)\n",
    "\n",
    "def progon(a,b,c,d):\n",
    "    n=len(b)-1\n",
    "    y=[0]*len(b)\n",
    "    x=[0]*len(b)\n",
    "    alpha=[0]*n\n",
    "    beta=[0]*len(b)\n",
    "    y[0]=b[0]\n",
    "    alpha[0]=-c[0]/y[0]\n",
    "    beta[0]=d[0]/y[0]\n",
    "    \n",
    "    for i in range(1,n):\n",
    "        y[i]=b[i]+alpha[i-1]*a[i-1] \n",
    "        alpha[i]=-c[i]/y[i]\n",
    "        beta[i]=(d[i]-a[i-1]*beta[i-1])/y[i]\n",
    "        \n",
    "    y[n]=b[n]+a[n-1]*alpha[n-1]\n",
    "    beta[n]=(d[n]-a[n-1]*beta[n-1])/y[n]\n",
    "                                      \n",
    "    for i in range(0,n+1):\n",
    "        if i!=0:\n",
    "            x[n-i]=alpha[n-i]*x[n-i+1]+beta[n-i]\n",
    "        else:\n",
    "            x[n-i]=beta[n-i]\n",
    "    return x\n",
    "\n",
    "\n",
    "def f1(t):\n",
    "    return -35+t/(-2)\n",
    "\n",
    "def f2(t):\n",
    "    return 35+t*t-0.2*t\n",
    "def fi1():\n",
    "    return 2\n",
    "def fi2():\n",
    "    return -5\n",
    "def fi4():\n",
    "    return 0\n",
    "def fi5():\n",
    "    return 5\n",
    "def f(t,x):\n",
    "    return (x+5)/(t+4)\n",
    "\n",
    "y=[0]*n\n",
    "y0=[0]*n\n",
    "# 0 \n",
    "for j in range (0,n-1):\n",
    "        y0[j]=-3+10*np.sin(1.57079633*j*h)\n",
    "\n",
    "        \n",
    "for i in range(0,m-1):\n",
    "    t=i*tau\n",
    "    for j in range(1,n-1):\n",
    "        d[j-1]=-y0[j]-tau*f(t,1+h*j)# в методичке -y0\n",
    "        if (j!=1) and (j!=n-1):\n",
    "            a1[j-2]=(a*tau/h/h-b*tau/2/h)*tetta\n",
    "            b1[j-1]=-1-2*a*tau*tetta/h/h+alpha3*tetta*tau\n",
    "            c1[j-2]=(a*tau/h/h+b*tau/2/h)*tetta\n",
    "            print a1[j-2]\n",
    "            print b1[j-1]\n",
    "            print c1[j-2]\n",
    "        else:\n",
    "            if j==1:\n",
    "                b1[j-1]=-1-2*a*tau*tetta/h/h+alpha3*tetta*tau\n",
    "                c1[j-2]=(a*tau/h/h+b*tau/2/h)*tetta\n",
    "            else:\n",
    "                a1[j-2]=(a*tau/h/h-b*tau/2/h)*tetta\n",
    "                b1[j-1]=-1-2*a*tau*tetta/h/h+alpha3*tetta*tau\n",
    "   \n",
    "    Y=progon(a1,b1,c1,d)\n",
    "    for k in range(1,n-1):\n",
    "        y[k]=Y[k-1]\n",
    "    y[0]=(2*h*f1(t)-4*fi1()*y[1]+fi1()*y[2])/(2*h*fi1()-3*fi1())\n",
    "    y[n-1]=(2*h*f2(t)+4*fi4()*y[n-2]-fi4()*y[n-3])/(2*h*fi5()+3*fi4())\n",
    "    for k in range(0,n):\n",
    "        y0[k]=y[k]"
   ]
  },
  {
   "cell_type": "code",
   "execution_count": 46,
   "metadata": {},
   "outputs": [
    {
     "data": {
      "text/plain": [
       "[<matplotlib.lines.Line2D at 0x7ff033858650>]"
      ]
     },
     "execution_count": 46,
     "metadata": {},
     "output_type": "execute_result"
    },
    {
     "data": {
      "image/png": "[encoded data removed]",
      "text/plain": [
       "<Figure size 432x288 with 1 Axes>"
      ]
     },
     "metadata": {
      "needs_background": "light"
     },
     "output_type": "display_data"
    }
   ],
   "source": [
    "x=np.linspace(0,np.pi,n)\n",
    "fig=plt.figure()\n",
    "#plt.plot(x,np.exp(-t*a)*np.cos(x+b*t),linewidth=3)\n",
    "plt.plot(x, y,linestyle=':',linewidth=5)"
   ]
  },
  {
   "cell_type": "code",
   "execution_count": null,
   "metadata": {},
   "outputs": [],
   "source": []
  }
 ],
 "metadata": {
  "kernelspec": {
   "display_name": "Python 2",
   "language": "python",
   "name": "python2"
  },
  "language_info": {
   "codemirror_mode": {
    "name": "ipython",
    "version": 3
   },
   "file_extension": ".py",
   "mimetype": "text/x-python",
   "name": "python",
   "nbconvert_exporter": "python",
   "pygments_lexer": "ipython3",
   "version": "3.7.4"
  }
 },
 "nbformat": 4,
 "nbformat_minor": 2
}
