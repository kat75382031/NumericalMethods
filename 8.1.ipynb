{
 "cells": [
  {
   "cell_type": "code",
   "execution_count": 84,
   "metadata": {},
   "outputs": [
    {
     "name": "stdout",
     "output_type": "stream",
     "text": [
      "Значения сплайнов в середине отрезка \n",
      "     x            y\n",
      "-5.0000000000 -0.9934296978\n",
      "-2.5000000000 0.3405059133\n",
      "-0.5000000000 -6.6749342970\n",
      "1.0000000000 -8.8833771353\n",
      "3.0000000000 1.6277923784\n"
     ]
    }
   ],
   "source": [
    "import numpy as np\n",
    "x=[-6.,-4.,-1.,0.,2.,4.]\n",
    "#y=[0.]*9\n",
    "y=[-6.,2.,-5.,-8.,-6.,12.]\n",
    "h=[0.]*(len(x)-1)\n",
    "a=[0.]*(len(x)-3)\n",
    "b=[0.]*(len(x)-2)\n",
    "c=[0.]*(len(x)-3)\n",
    "d=[0.]*(len(x)-2)\n",
    "p=[0.]*len(h)\n",
    "q=[0.]*len(h)\n",
    "m=[0.]*(len(x)-2)\n",
    "m1=[0.]*len(x)\n",
    "y1=[0.]*((len(x)-1)*2+1)\n",
    "x1=[0.]*((len(x)-1)*2+1)\n",
    "\n",
    "def S(x,x1,x2,y1,y2,h2,m1,m2):\n",
    "    return m2*(x-x1)*(x-x1)*(x-x1)/6/h2+m1*(x2-x)*(x2-x)*(x2-x)/6/h2+(y2-m2*h2*h2/6)*(x-x1)/h2+(y1-m1*h2*h2/6)*(x2-x)/h2\n",
    "    \n",
    "for i in range(0, len(h)):\n",
    "    h[i]=x[i+1]-x[i]\n",
    "    \n",
    "for j in range(0,len(x)-2):\n",
    "    if (j!=0) and (j!=len(x)-3):\n",
    "        a[j-1]=h[j]/6\n",
    "        b[j]=(h[j]+h[j+1])/3\n",
    "        c[j]=h[j+1]/6\n",
    "        d[j]=(y[j+2]-y[j+1])/h[j+1]-(y[j+1]-y[j])/h[j]\n",
    "    else:\n",
    "        if j==0:\n",
    "            b[j]=(h[j]+h[j+1])/3\n",
    "            c[j]=h[j+1]/6\n",
    "            d[j]=(y[j+2]-y[j+1])/h[j+1]-(y[j+1]-y[j])/h[j]\n",
    "        else:\n",
    "            a[j-1]=h[j]/6\n",
    "            b[j]=(h[j]+h[j+1])/3\n",
    "            d[j]=(y[j+2]-y[j+1])/h[j+1]-(y[j+1]-y[j])/h[j]\n",
    "\n",
    "for i in range(1,len(h)):\n",
    "    p[i]=-h[i]/(2*(h[i-1]+h[i])+p[i-1]*h[i-1])\n",
    "    q[i]=(6*d[i-1]-h[i-1]*q[i-1])/(2*(h[i-1]+h[i])+p[i-1]*h[i-1])\n",
    "\n",
    "m[len(m)-1]=q[len(m)]\n",
    "for i in range(1,len(m)):\n",
    "    m[len(m)-1-i]=p[len(m)-i]*m[len(m)-i]+q[len(m)-i]\n",
    "\n",
    "for i in range(1,len(m1)-1):\n",
    "    m1[i]=m[i-1]\n",
    "count=0\n",
    "print(\"Значения сплайнов в середине отрезка \\n     x            y\")\n",
    "\n",
    "for i in range(0,len(x)-1):\n",
    "    for j in range(0,2):\n",
    "        if j!=0:\n",
    "            x1[count]=(x[i]+x[i+1])/2*j\n",
    "            y1[count]=S(x1[count],x[i],x[i+1],y[i],y[i+1],h[i],m1[i],m1[i+1])\n",
    "            print(\"%.10f %.10f\" % (x1[count],y1[count]))\n",
    "        else:\n",
    "            x1[count]=x[i]\n",
    "            y1[count]=y[i]\n",
    "        count+=1\n",
    "x1[len(x1)-1]=x[len(y)-1]\n",
    "y1[len(y1)-1]=y[len(y)-1]  \n",
    "        "
   ]
  },
  {
   "cell_type": "code",
   "execution_count": 86,
   "metadata": {},
   "outputs": [
    {
     "name": "stdout",
     "output_type": "stream",
     "text": [
      "(-6.0000000000;-6.0000000000)\n",
      "(-5.0000000000;-0.9934296978)\n",
      "(-4.0000000000;2.0000000000)\n",
      "(-2.5000000000;0.3405059133)\n",
      "(-1.0000000000;-5.0000000000)\n",
      "(-0.5000000000;-6.6749342970)\n",
      "(0.0000000000;-8.0000000000)\n",
      "(1.0000000000;-8.8833771353)\n",
      "(2.0000000000;-6.0000000000)\n",
      "(3.0000000000;1.6277923784)\n",
      "(4.0000000000;12.0000000000)\n"
     ]
    },
    {
     "data": {
      "text/plain": [
       "[<matplotlib.lines.Line2D at 0x7fbe1edec3d0>]"
      ]
     },
     "execution_count": 86,
     "metadata": {},
     "output_type": "execute_result"
    },
    {
     "data": {
      "image/png": "[encoded data removed]",
      "text/plain": [
       "<Figure size 432x288 with 1 Axes>"
      ]
     },
     "metadata": {
      "needs_background": "light"
     },
     "output_type": "display_data"
    }
   ],
   "source": [
    "import matplotlib.pyplot as plt\n",
    "for i in range(0,11):\n",
    "    print(\"(%.10f;%.10f)\" % (x1[i],y1[i]))\n",
    "plt.plot(x1,y1)"
   ]
  },
  {
   "cell_type": "code",
   "execution_count": null,
   "metadata": {},
   "outputs": [],
   "source": []
  }
 ],
 "metadata": {
  "kernelspec": {
   "display_name": "Python 2",
   "language": "python",
   "name": "python2"
  },
  "language_info": {
   "codemirror_mode": {
    "name": "ipython",
    "version": 2
   },
   "file_extension": ".py",
   "mimetype": "text/x-python",
   "name": "python",
   "nbconvert_exporter": "python",
   "pygments_lexer": "ipython2",
   "version": "2.7.15+"
  }
 },
 "nbformat": 4,
 "nbformat_minor": 2
}
