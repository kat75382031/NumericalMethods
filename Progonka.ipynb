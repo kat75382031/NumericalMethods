{
 "cells": [
  {
   "cell_type": "code",
   "execution_count": 2,
   "metadata": {},
   "outputs": [
    {
     "name": "stdout",
     "output_type": "stream",
     "text": [
      " x = [-0.0078125, 0.0061056034482758655, -0.07635560344827585]\n"
     ]
    }
   ],
   "source": [
    "a=[-4.2,1.6,0]\n",
    "b=[1.6,-4.2,1.6]\n",
    "c=[0,1.6,-4.2]\n",
    "d=[-0.0125,-0.115,-0.1124]\n",
    "\n",
    "def progon(a,b,c,d):\n",
    "    n=len(b)-1\n",
    "    y=[0]*len(b)\n",
    "    x=[0]*len(b)\n",
    "    alpha=[0]*n\n",
    "    beta=[0]*len(b)\n",
    "    y[0]=b[0]\n",
    "    alpha[0]=-c[0]/y[0]\n",
    "    beta[0]=d[0]/y[0]\n",
    "    \n",
    "    \n",
    "    for i in range(1,n):\n",
    "        y[i]=b[i]+alpha[i-1]*a[i-1] \n",
    "        alpha[i]=-c[i]/y[i]\n",
    "        beta[i]=(d[i]-a[i-1]*beta[i-1])/y[i]\n",
    "        \n",
    "    y[n]=b[n]+a[n-1]*alpha[n-1]\n",
    "    beta[n]=(d[n]-a[n-1]*beta[n-1])/y[n]\n",
    "                                      \n",
    "    for i in range(0,n+1):\n",
    "        if i!=0:\n",
    "            x[n-i]=alpha[n-i]*x[n-i+1]+beta[n-i]\n",
    "        else:\n",
    "            x[n-i]=beta[n-i]\n",
    "    return x\n",
    "print(\"x =\"),progon(a,b,c,d)"
   ]
  },
  {
   "cell_type": "code",
   "execution_count": null,
   "metadata": {},
   "outputs": [],
   "source": []
  }
 ],
 "metadata": {
  "kernelspec": {
   "display_name": "Python 2",
   "language": "python",
   "name": "python2"
  },
  "language_info": {
   "codemirror_mode": {
    "name": "ipython",
    "version": 2
   },
   "file_extension": ".py",
   "mimetype": "text/x-python",
   "name": "python",
   "nbconvert_exporter": "python",
   "pygments_lexer": "ipython2",
   "version": "2.7.15+"
  }
 },
 "nbformat": 4,
 "nbformat_minor": 2
}
