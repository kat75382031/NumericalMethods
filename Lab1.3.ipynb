{
 "cells": [
  {
   "cell_type": "code",
   "execution_count": 48,
   "metadata": {},
   "outputs": [],
   "source": [
    "import numpy as np\n",
    "import matplotlib.pyplot as plt\n",
    "# t :[0;2], x:[0,pi]\n",
    "n=11\n",
    "m=20\n",
    "h=np.pi/(n-1)\n",
    "tau=0.02\n",
    "ht=18\n",
    "a=1\n",
    "b=1\n",
    "eps=[0]*ht\n",
    "x=np.linspace(0,np.pi,n)\n",
    "\n",
    "tetta=1/2\n",
    "\n",
    "a1=[0]*(n-3)\n",
    "b1=[0]*(n-2)\n",
    "c1=[0]*(n-3)\n",
    "d=[0]*(n-2)\n",
    "\n",
    "def progon(a,b,c,d):\n",
    "    n=len(b)-1\n",
    "    y=[0]*len(b)\n",
    "    x=[0]*len(b)\n",
    "    alpha=[0]*n\n",
    "    beta=[0]*len(b)\n",
    "    y[0]=b[0]\n",
    "    alpha[0]=-c[0]/y[0]\n",
    "    beta[0]=d[0]/y[0]\n",
    "    \n",
    "    for i in range(1,n):\n",
    "        y[i]=b[i]+alpha[i-1]*a[i-1] \n",
    "        alpha[i]=-c[i]/y[i]\n",
    "        beta[i]=(d[i]-a[i-1]*beta[i-1])/y[i]\n",
    "        \n",
    "    y[n]=b[n]+a[n-1]*alpha[n-1]\n",
    "    beta[n]=(d[n]-a[n-1]*beta[n-1])/y[n]\n",
    "                                      \n",
    "    for i in range(0,n+1):\n",
    "        if i!=0:\n",
    "            x[n-i]=alpha[n-i]*x[n-i+1]+beta[n-i]\n",
    "        else:\n",
    "            x[n-i]=beta[n-i]\n",
    "    return x\n",
    "\n",
    "def f1(a,b,t):\n",
    "    a=-np.exp(-a*t)*(np.cos(b*t)+np.sin(b*t))\n",
    "    return a\n",
    "def analit(x,t):\n",
    "    return np.exp(-t*a)*np.cos(x+b*t)\n",
    "\n",
    "y=[0]*n\n",
    "y0=[0]*n\n",
    "# 0 \n",
    "for j in range (0,n):\n",
    "        y0[j]=np.cos(j*h)\n",
    "        \n",
    "for i in range(0,ht):\n",
    "    t=i*tau\n",
    "    for j in range(1,n-1):\n",
    "        d[j-1]=y0[j+1]*tau*(1-tetta)*(a/h/h+b/2/h)+y0[j]*(1+tau*(1-tetta)*(-2*a/h/h))+y0[j-1]*tau*(1-tetta)*(a/h/h-b/2/h)\n",
    "        if (j!=1) and (j!=n-1):\n",
    "            a1[j-2]=(a*tau/h/h+b*tau/2/h)*tetta\n",
    "            b1[j-1]=(1+2*a*tau*tetta/h/h)\n",
    "            c1[j-2]=(a*tau/h/h-b*tau/2/h)*tetta\n",
    "        else:\n",
    "            if j==1:\n",
    "                b1[j-1]=(1+2*a*tau*tetta/h/h)\n",
    "                c1[j-2]=(a*tau/h/h-b*tau/2/h)*tetta\n",
    "            else:\n",
    "                a1[j-2]=(a*tau/h/h+b*tau/2/h)*tetta\n",
    "                b1[j-1]=(1+2*a*tau*tetta/h/h)\n",
    "    Y=progon(a1,b1,c1,d)\n",
    "    for k in range(1,n-1):\n",
    "        y[k]=Y[k-1]\n",
    "    #y[0]=(h*f1(a,b,t)-y[1])/(-h-1)\n",
    "    #y[n-1]=(-f1(a,b,t)*h+y[n-2])/(-h+1)\n",
    "    y[0]=(2*h*f1(a,b,t)-4*y[1]+y[2])/(-2*h-3)\n",
    "    y[n-1]=(-2*h*f1(a,b,t)+4*y[n-2]-y[n-3])/(-2*h+3)\n",
    "    for j in range(len(y)):\n",
    "        if eps[i]<abs(analit(x[j],t)-y[j]):\n",
    "            eps[i]=abs(analit(x[j],t)-y[j])\n",
    "              \n",
    "    for k in range(0,n):\n",
    "        y0[k]=y[k]"
   ]
  },
  {
   "cell_type": "code",
   "execution_count": 49,
   "metadata": {},
   "outputs": [
    {
     "data": {
      "text/plain": [
       "[<matplotlib.lines.Line2D at 0x7f8e5e687f90>]"
      ]
     },
     "execution_count": 49,
     "metadata": {},
     "output_type": "execute_result"
    },
    {
     "data": {
      "image/png": "[encoded data removed]",
      "text/plain": [
       "<Figure size 432x288 with 1 Axes>"
      ]
     },
     "metadata": {
      "needs_background": "light"
     },
     "output_type": "display_data"
    }
   ],
   "source": [
    "x=np.linspace(0,np.pi,n)\n",
    "fig=plt.figure()\n",
    "for i in range(len(y)):\n",
    "    plt.plot(x[i],y[i], marker='o')\n",
    "plt.plot(x,np.exp(-t*a)*np.cos(x+b*t),linewidth=3)\n",
    "#plt.plot(x, y,linestyle=':',linewidth=5)"
   ]
  },
  {
   "cell_type": "code",
   "execution_count": 50,
   "metadata": {},
   "outputs": [
    {
     "data": {
      "text/plain": [
       "[<matplotlib.lines.Line2D at 0x7f8e5e78c590>]"
      ]
     },
     "execution_count": 50,
     "metadata": {},
     "output_type": "execute_result"
    },
    {
     "data": {
      "image/png": "[encoded data removed]",
      "text/plain": [
       "<Figure size 432x288 with 1 Axes>"
      ]
     },
     "metadata": {
      "needs_background": "light"
     },
     "output_type": "display_data"
    }
   ],
   "source": [
    "t1=np.linspace(0,ht*tau,ht)\n",
    "plt.ylim(-0.1,0.5)\n",
    "plt.xlim(0.1,2)\n",
    "plt.plot(t1,eps)"
   ]
  },
  {
   "cell_type": "code",
   "execution_count": null,
   "metadata": {},
   "outputs": [],
   "source": []
  },
  {
   "cell_type": "code",
   "execution_count": null,
   "metadata": {},
   "outputs": [],
   "source": []
  }
 ],
 "metadata": {
  "kernelspec": {
   "display_name": "Python 2",
   "language": "python",
   "name": "python2"
  },
  "language_info": {
   "codemirror_mode": {
    "name": "ipython",
    "version": 2
   },
   "file_extension": ".py",
   "mimetype": "text/x-python",
   "name": "python",
   "nbconvert_exporter": "python",
   "pygments_lexer": "ipython2",
   "version": "2.7.15+"
  }
 },
 "nbformat": 4,
 "nbformat_minor": 2
}
